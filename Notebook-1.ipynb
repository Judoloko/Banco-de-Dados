{
    "metadata": {
        "kernelspec": {
            "name": "SQL",
            "display_name": "SQL",
            "language": "sql"
        },
        "language_info": {
            "name": "sql",
            "version": ""
        }
    },
    "nbformat_minor": 2,
    "nbformat": 4,
    "cells": [
        {
            "cell_type": "code",
            "source": [
                "CREATE DATABASE seguradora;"
            ],
            "metadata": {
                "azdata_cell_guid": "67d19106-896b-438f-af43-296a56888fc7"
            },
            "outputs": [
                {
                    "output_type": "display_data",
                    "data": {
                        "text/html": "Commands completed successfully."
                    },
                    "metadata": {}
                },
                {
                    "output_type": "display_data",
                    "data": {
                        "text/html": "Total execution time: 00:00:00.217"
                    },
                    "metadata": {}
                }
            ],
            "execution_count": 4
        },
        {
            "cell_type": "code",
            "source": [
                "use seguradora"
            ],
            "metadata": {
                "azdata_cell_guid": "abfe4ac3-c3ea-456a-81d5-9eeb46262729"
            },
            "outputs": [
                {
                    "output_type": "display_data",
                    "data": {
                        "text/html": "Commands completed successfully."
                    },
                    "metadata": {}
                },
                {
                    "output_type": "display_data",
                    "data": {
                        "text/html": "Total execution time: 00:00:00.055"
                    },
                    "metadata": {}
                }
            ],
            "execution_count": 5
        },
        {
            "cell_type": "code",
            "source": [
                "CREATE TABLE Cliente (\r\n",
                "    CodCliente INT PRIMARY KEY,\r\n",
                "    Nome VARCHAR(45) NOT NULL,\r\n",
                "    CPF VARCHAR(45) UNIQUE NOT NULL,\r\n",
                "    Sexo VARCHAR(20),\r\n",
                "    Estado VARCHAR(45),\r\n",
                "    Cidade VARCHAR(45) DEFAULT 'Itapira',\r\n",
                "    Bairro VARCHAR(45),\r\n",
                "    Numero VARCHAR(45),\r\n",
                "    Rua VARCHAR(45),\r\n",
                "    TelefoneFixo VARCHAR(45),\r\n",
                "    TelefoneCelular VARCHAR(45) UNIQUE NOT NULL\r\n",
                ");\r\n",
                "\r\n",
                ""
            ],
            "metadata": {
                "azdata_cell_guid": "b1f48cb5-631e-4086-bd83-d38049dfed2f",
                "tags": []
            },
            "outputs": [
                {
                    "output_type": "display_data",
                    "data": {
                        "text/html": "Commands completed successfully."
                    },
                    "metadata": {}
                },
                {
                    "output_type": "display_data",
                    "data": {
                        "text/html": "Total execution time: 00:00:00.014"
                    },
                    "metadata": {}
                }
            ],
            "execution_count": 6
        },
        {
            "cell_type": "code",
            "source": [
                "CREATE TABLE Carro (\r\n",
                "    CodCodCarro INT PRIMARY KEY,\r\n",
                "    Placa VARCHAR(45),\r\n",
                "    Marca VARCHAR(45),\r\n",
                "    Modelo VARCHAR(45),\r\n",
                "    Ano VARCHAR(45),\r\n",
                "    Chassi VARCHAR(45),\r\n",
                "    Cor VARCHAR(45)\r\n",
                ");"
            ],
            "metadata": {
                "azdata_cell_guid": "ed296f4e-b8a8-4e09-a673-46d636be6314"
            },
            "outputs": [
                {
                    "output_type": "display_data",
                    "data": {
                        "text/html": "Commands completed successfully."
                    },
                    "metadata": {}
                },
                {
                    "output_type": "display_data",
                    "data": {
                        "text/html": "Total execution time: 00:00:00.002"
                    },
                    "metadata": {}
                }
            ],
            "execution_count": 9
        },
        {
            "cell_type": "code",
            "source": [
                "CREATE TABLE Apolice (\r\n",
                "    CodApolice INT PRIMARY KEY, \r\n",
                "    ValorCobertura DECIMAL NOT NULL,\r\n",
                "    ValorFranquia DECIMAL NOT NULL,\r\n",
                "    DataInicioVigencia DATE NOT NULL,\r\n",
                "    DataFimVigencia DATE NOT NULL,\r\n",
                "    Cliente_CodCliente INT NOT NULL,\r\n",
                "    Carro_CodCarro INT NOT NULL,\r\n",
                "    CONSTRAINT cnk_dataInicioVigencia CHECK (DataInicioVigencia >= GETDATE()),\r\n",
                "    FOREIGN KEY (Cliente_CodCliente) REFERENCES Cliente(CodCliente),\r\n",
                "    FOREIGN KEY (Carro_CodCarro) REFERENCES Carro(CodCarro)\r\n",
                ");   "
            ],
            "metadata": {
                "azdata_cell_guid": "dfba03c6-be4a-406a-b5ea-45bff2be95d9"
            },
            "outputs": [
                {
                    "output_type": "error",
                    "evalue": "Msg 2714, Level 16, State 6, Line 1\r\nJá existe um objeto com nome 'Apolice' no banco de dados.",
                    "ename": "",
                    "traceback": []
                },
                {
                    "output_type": "display_data",
                    "data": {
                        "text/html": "Total execution time: 00:00:00.002"
                    },
                    "metadata": {}
                }
            ],
            "execution_count": 27
        },
        {
            "cell_type": "code",
            "source": [
                "CREATE TABLE Sinistro (\r\n",
                "    CodSinistro INT,\r\n",
                "    HoraSinistro INT,\r\n",
                "    DataSinistro DATE,\r\n",
                "    LocalSinistro VARCHAR(45),\r\n",
                "    Condutor VARCHAR(45),\r\n",
                "    Carro_CodCarro INT,\r\n",
                "    CONSTRAINT pk_sinistro PRIMARY KEY (CodSinistro, Carro_CodCarro),\r\n",
                "    FOREIGN KEY (Carro_CodCarro) REFERENCES Carro(CodCarro)\r\n",
                ");"
            ],
            "metadata": {
                "azdata_cell_guid": "b75da7f1-3333-4eba-ad83-0c385160c54d"
            },
            "outputs": [
                {
                    "output_type": "error",
                    "evalue": "Msg 1770, Level 16, State 0, Line 1\r\nA chave estrangeira 'FK__Sinistro__Carro___75A278F5' faz referência à coluna inválida 'CodCarro' na tabela de referência 'Carro'.",
                    "ename": "",
                    "traceback": []
                },
                {
                    "output_type": "error",
                    "evalue": "Msg 1750, Level 16, State 1, Line 1\r\nNão foi possível criar a restrição ou o índice. Consulte os erros anteriores.",
                    "ename": "",
                    "traceback": []
                },
                {
                    "output_type": "display_data",
                    "data": {
                        "text/html": "Total execution time: 00:00:00.003"
                    },
                    "metadata": {}
                }
            ],
            "execution_count": 29
        }
    ]
}